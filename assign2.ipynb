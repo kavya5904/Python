{
 "cells": [
  {
   "cell_type": "markdown",
   "id": "6b992130-135e-4281-b9a8-99221705cba6",
   "metadata": {},
   "source": [
    "## 1. Create a variable `city` and assign the name of your favorite city to it. Print the variable.\n",
    "\n"
   ]
  },
  {
   "cell_type": "code",
   "execution_count": 1,
   "id": "63c60d9a-2410-459d-a32c-3bb4042c2e16",
   "metadata": {},
   "outputs": [
    {
     "data": {
      "text/plain": [
       "'Mumbai'"
      ]
     },
     "execution_count": 1,
     "metadata": {},
     "output_type": "execute_result"
    }
   ],
   "source": [
    "city = \"Mumbai\"\n",
    "city"
   ]
  },
  {
   "cell_type": "markdown",
   "id": "5ae95fdb-1a9c-41bc-83a8-16cc5be6ac9e",
   "metadata": {},
   "source": [
    "## 2. Print the data type of the variable `city`."
   ]
  },
  {
   "cell_type": "code",
   "execution_count": 2,
   "id": "e89c557b-cba0-403e-8a4f-4c857c50c66a",
   "metadata": {},
   "outputs": [
    {
     "data": {
      "text/plain": [
       "str"
      ]
     },
     "execution_count": 2,
     "metadata": {},
     "output_type": "execute_result"
    }
   ],
   "source": [
    "type(city)"
   ]
  },
  {
   "cell_type": "markdown",
   "id": "e9268bc0-2978-49b0-a51d-b4bd74c1134c",
   "metadata": {},
   "source": [
    "## 3. Convert the integer `42` to a string and assign it to a new variable. Print the new variable.\n",
    "\n"
   ]
  },
  {
   "cell_type": "code",
   "execution_count": 5,
   "id": "37d0893d-2aa0-4244-9294-d18f4c8ba072",
   "metadata": {},
   "outputs": [
    {
     "name": "stdout",
     "output_type": "stream",
     "text": [
      "45\n",
      "<class 'int'>\n",
      "<class 'str'>\n"
     ]
    }
   ],
   "source": [
    "a = 45\n",
    "b = str(a)\n",
    "print(b)\n",
    "print(type(a))\n",
    "print(type(b))"
   ]
  },
  {
   "cell_type": "markdown",
   "id": "233d70d6-8aa6-4ec6-b1b4-9e839013e57a",
   "metadata": {},
   "source": [
    "## 4. Use len() on your name variable and count lenght of your name"
   ]
  },
  {
   "cell_type": "code",
   "execution_count": 6,
   "id": "ea7088f6-fdae-4011-beaf-fd960e4deee3",
   "metadata": {},
   "outputs": [
    {
     "data": {
      "text/plain": [
       "5"
      ]
     },
     "execution_count": 6,
     "metadata": {},
     "output_type": "execute_result"
    }
   ],
   "source": [
    "name = \"kavya\"\n",
    "len(name)"
   ]
  },
  {
   "cell_type": "markdown",
   "id": "fb73e843-e729-409e-93dd-4055ab576072",
   "metadata": {},
   "source": [
    "## 5. use \" if \" statement to to check \"code\" word exist or not in \" code square\"\n",
    "\n"
   ]
  },
  {
   "cell_type": "code",
   "execution_count": 9,
   "id": "69f55b3d-dc03-47ae-8747-96952be5d1a9",
   "metadata": {},
   "outputs": [
    {
     "name": "stdout",
     "output_type": "stream",
     "text": [
      "true\n"
     ]
    }
   ],
   "source": [
    "a = \"code\"\n",
    "b = \"code square\"\n",
    "\n",
    "if a in b:\n",
    "    print(\"true\")\n",
    "else:\n",
    "    print(\"false\")"
   ]
  },
  {
   "cell_type": "code",
   "execution_count": 10,
   "id": "65200855-cc24-4bfe-90cd-bf067418206d",
   "metadata": {},
   "outputs": [
    {
     "name": "stdout",
     "output_type": "stream",
     "text": [
      "false\n"
     ]
    }
   ],
   "source": [
    "a = \"code\"\n",
    "b = \"square\"\n",
    "\n",
    "if a in b:\n",
    "    print(\"true\")\n",
    "else:\n",
    "    print(\"false\")"
   ]
  },
  {
   "cell_type": "code",
   "execution_count": null,
   "id": "e78248b5-8c0b-4c3e-a38c-b5bdbd6340ea",
   "metadata": {},
   "outputs": [],
   "source": []
  }
 ],
 "metadata": {
  "kernelspec": {
   "display_name": "Python 3 (ipykernel)",
   "language": "python",
   "name": "python3"
  },
  "language_info": {
   "codemirror_mode": {
    "name": "ipython",
    "version": 3
   },
   "file_extension": ".py",
   "mimetype": "text/x-python",
   "name": "python",
   "nbconvert_exporter": "python",
   "pygments_lexer": "ipython3",
   "version": "3.13.5"
  }
 },
 "nbformat": 4,
 "nbformat_minor": 5
}
